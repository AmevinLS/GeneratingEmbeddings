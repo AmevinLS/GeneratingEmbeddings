{
 "cells": [
  {
   "cell_type": "code",
   "execution_count": 8,
   "metadata": {},
   "outputs": [],
   "source": [
    "import pandas as pd\n",
    "import numpy as np\n",
    "import matplotlib.pyplot as plt\n",
    "\n",
    "import nltk\n",
    "import re\n",
    "\n",
    "import torch\n",
    "import torch.nn as nn\n",
    "import torch.functional as F\n",
    "import torch.optim as optim"
   ]
  },
  {
   "cell_type": "code",
   "execution_count": 9,
   "metadata": {},
   "outputs": [],
   "source": [
    "with open(\"resources/norm_wiki_sample.txt\", \"r\") as f:\n",
    "    wiki_text = f.read()"
   ]
  },
  {
   "cell_type": "code",
   "execution_count": 10,
   "metadata": {},
   "outputs": [],
   "source": [
    "TOKENS = nltk.tokenize.word_tokenize(wiki_text)\n",
    "for i, token in enumerate(TOKENS):\n",
    "    if len(re.findall(\"[0-9]+\", token)) != 0:\n",
    "        TOKENS[i] = \"<num>\""
   ]
  },
  {
   "cell_type": "code",
   "execution_count": 11,
   "metadata": {},
   "outputs": [],
   "source": [
    "def generate_vocabs(tokens):\n",
    "    word_to_id = {token: i for i, token in enumerate(sorted(set(tokens)))}\n",
    "    if \"<unk>\" not in tokens:\n",
    "        word_to_id[\"<unk>\"] = len(word_to_id)\n",
    "    id_to_word = {i: token for token, i in word_to_id.items()}\n",
    "    return word_to_id, id_to_word\n",
    "\n",
    "def generate_instances_words(tokens, window_halfsize):\n",
    "    for i in range(window_halfsize, len(tokens)-window_halfsize):\n",
    "        context = tokens[i-window_halfsize:i] + tokens[i+1:window_halfsize]\n",
    "        target = tokens[i]\n",
    "        yield context, target\n",
    "\n",
    "def generate_word_vecs(tokens, window_halfsize, word_to_id):\n",
    "    vocab_size = len(word_to_id)\n",
    "    for context, target in generate_instances_words(tokens, window_halfsize):\n",
    "        context_vec = np.zeros(vocab_size)\n",
    "        for word in context:\n",
    "            context_vec[word_to_id[word]] += 1\n",
    "        context_vec /= len(context)\n",
    "\n",
    "        target_vec = np.zeros(vocab_size)\n",
    "        target_vec[word_to_id[target]] = 1\n",
    "        yield context_vec, target_vec"
   ]
  },
  {
   "cell_type": "code",
   "execution_count": 21,
   "metadata": {},
   "outputs": [],
   "source": [
    "class WordVecGenerator:\n",
    "    def __init__(self, vocab: set, window_halfsize: int):\n",
    "        self.word_to_id = {token: i for i, token in enumerate(sorted(vocab))}\n",
    "        if \"<unk>\" not in vocab:\n",
    "            self.word_to_id[\"<unk>\"] = len(self.word_to_id)\n",
    "        self.id_to_word = {i: token for token, i in self.word_to_id.items()}\n",
    "        self.vocab_size = len(self.word_to_id)\n",
    "        self.win_halfsize = window_halfsize\n",
    "\n",
    "    def _process_token(self, token):\n",
    "        if token in self.word_to_id:\n",
    "            return token\n",
    "        return \"<unk>\"\n",
    "\n",
    "    def _get_index(self, token):\n",
    "        token = self._process_token(token)\n",
    "        return self.word_to_id[token]\n",
    "\n",
    "    def get_one_hot(self, token):\n",
    "        res = np.zeroes(self.vocab_size)\n",
    "        res[self._get_index(token)] = 1\n",
    "        return res\n",
    "\n",
    "    def generate_instances_words(self, tokens):\n",
    "        for i in range(self.win_halfsize, len(tokens)-self.win_halfsize):\n",
    "            context = tokens[i-self.win_halfsize:i] + tokens[i+1:self.win_halfsize]\n",
    "            target = tokens[i]\n",
    "            yield context, target\n",
    "\n",
    "    def generate_word_vecs(self, tokens):\n",
    "        for context, target in self.generate_instances_words(tokens):\n",
    "            context_vec = np.zeros(self.vocab_size)\n",
    "            for word in context:\n",
    "                if word not in self.word_to_id:\n",
    "                    word = \"<unk>\"\n",
    "                context_vec[self.word_to_id[word]] += 1\n",
    "            context_vec /= len(context)\n",
    "\n",
    "            target_vec = np.zeros(self.vocab_size)\n",
    "            if target not in self.word_to_id:\n",
    "                target = \"<unk>\"\n",
    "            target_vec[self.word_to_id[target]] = 1\n",
    "            yield context_vec, target_vec"
   ]
  },
  {
   "cell_type": "code",
   "execution_count": 24,
   "metadata": {},
   "outputs": [],
   "source": [
    "class WordVecDataset(torch.utils.data.Dataset):\n",
    "    def __init__(self, data, targets):\n",
    "        self.data = data\n",
    "        self.targets = targets\n",
    "\n",
    "    def __len__(self):\n",
    "        return len(self.data)\n",
    "\n",
    "    def __getitem__(self, index):\n",
    "        global DEVICE\n",
    "        x = torch.tensor(self.data[index], dtype=torch.double, device=DEVICE)\n",
    "        y = torch.tensor(self.targets[index], dtype=torch.double, device=DEVICE) \n",
    "        return x, y"
   ]
  },
  {
   "cell_type": "code",
   "execution_count": 28,
   "metadata": {},
   "outputs": [],
   "source": [
    "tokens_subset = TOKENS[:10000]\n",
    "word_vec_gen = WordVecGenerator(set(tokens_subset), 5)\n",
    "\n",
    "data, targets = [], []\n",
    "ngrams = word_vec_gen.generate_word_vecs(tokens_subset)\n",
    "for context_vec, target_vec in ngrams:\n",
    "    data.append(context_vec)\n",
    "    targets.append(target_vec)\n",
    "\n",
    "dataset = WordVecDataset(data, targets)\n",
    "dataloader = torch.utils.data.DataLoader(dataset, batch_size=10, shuffle=True)"
   ]
  },
  {
   "cell_type": "code",
   "execution_count": 29,
   "metadata": {},
   "outputs": [],
   "source": [
    "DEVICE = torch.device(\"cuda:0\" if torch.cuda.is_available() else \"cpu\")"
   ]
  },
  {
   "cell_type": "code",
   "execution_count": 30,
   "metadata": {},
   "outputs": [],
   "source": [
    "class CBOWModel(nn.Module):\n",
    "    def __init__(self, vocab_size, embedding_dim):\n",
    "        super(CBOWModel, self).__init__()\n",
    "        self.hidden = nn.Linear(vocab_size, embedding_dim)\n",
    "        self.relu = nn.ReLU()\n",
    "        self.output = nn.Linear(embedding_dim, vocab_size)\n",
    "        self.softmax = nn.Softmax(dim=1)\n",
    "\n",
    "    def forward(self, inputs):\n",
    "        hidden = self.relu(self.hidden(inputs))\n",
    "        out = self.softmax(self.output(hidden))\n",
    "        return out"
   ]
  },
  {
   "cell_type": "code",
   "execution_count": 31,
   "metadata": {},
   "outputs": [
    {
     "name": "stdout",
     "output_type": "stream",
     "text": [
      "Epoch: 0 | Loss: 7919.575555857831\n",
      "Epoch: 10 | Loss: 7863.886172610739\n",
      "Epoch: 20 | Loss: 7809.545704477734\n",
      "Epoch: 30 | Loss: 7773.707535781884\n",
      "Epoch: 40 | Loss: 7757.41392919287\n",
      "Epoch: 50 | Loss: 7749.291557794115\n",
      "Epoch: 60 | Loss: 7742.470501179652\n",
      "Epoch: 70 | Loss: 7738.784101492824\n",
      "Epoch: 80 | Loss: 7735.873394506536\n",
      "Epoch: 90 | Loss: 7733.621568827935\n"
     ]
    }
   ],
   "source": [
    "losses = []\n",
    "loss_function = nn.CrossEntropyLoss()\n",
    "\n",
    "model = CBOWModel(word_vec_gen.vocab_size, 50)\n",
    "model = model.double()\n",
    "model = model.to(DEVICE)\n",
    "\n",
    "optimizer = optim.Adam(model.parameters(), lr=0.001)\n",
    "\n",
    "for epoch in range(100):\n",
    "    total_loss = 0\n",
    "    for context_vec, target_vec in dataloader:\n",
    "        # context_vec = torch.tensor(context_vec, dtype=torch.double, device=DEVICE)\n",
    "        # context_vec = torch.reshape(context_vec, (1, -1))\n",
    "        # target_vec = torch.tensor(target_vec, dtype=torch.double, device=DEVICE)\n",
    "        # target_vec = torch.reshape(context_vec, (1, -1))\n",
    "\n",
    "        model.zero_grad()\n",
    "        probs = model(context_vec)\n",
    "        loss = loss_function(probs, target_vec)\n",
    "\n",
    "        loss.backward()\n",
    "        optimizer.step()\n",
    "\n",
    "        total_loss += loss.item()\n",
    "    losses.append(total_loss)\n",
    "    \n",
    "    if epoch % 10 == 0:\n",
    "        print(f\"Epoch: {epoch} | Loss: {losses[-1]}\")"
   ]
  },
  {
   "cell_type": "code",
   "execution_count": 47,
   "metadata": {},
   "outputs": [],
   "source": [
    "temp_input = np.random.random(len(word_to_id))\n",
    "temp_input = torch.tensor(temp_input, dtype=torch.double, device=DEVICE)\n",
    "temp_input = torch.reshape(temp_input, shape=(1,-1))\n",
    "temp_output = model(temp_input)"
   ]
  },
  {
   "cell_type": "code",
   "execution_count": 19,
   "metadata": {},
   "outputs": [
    {
     "data": {
      "text/plain": [
       "[<matplotlib.lines.Line2D at 0x2b4e4d61b70>]"
      ]
     },
     "execution_count": 19,
     "metadata": {},
     "output_type": "execute_result"
    },
    {
     "data": {
      "image/png": "[encoded data removed]",
      "text/plain": [
       "<Figure size 640x480 with 1 Axes>"
      ]
     },
     "metadata": {},
     "output_type": "display_data"
    }
   ],
   "source": [
    "plt.plot(losses)"
   ]
  },
  {
   "cell_type": "code",
   "execution_count": 27,
   "metadata": {},
   "outputs": [
    {
     "data": {
      "text/plain": [
       "[(['Hi', ',', 'Even', 'though', 'I'], 'am'),\n",
       " ([',', 'Even', 'though', 'I', 'am'], 'very'),\n",
       " (['Even', 'though', 'I', 'am', 'very'], 'intelligent')]"
      ]
     },
     "execution_count": 27,
     "metadata": {},
     "output_type": "execute_result"
    }
   ],
   "source": [
    "model.eval()\n",
    "sentence = \"Hi, Even though I am very intelligent I am also very gay\"\n",
    "test_tokens = nltk.word_tokenize(sentence)\n",
    "list(word_vec_gen.generate_instances_words(test_tokens))"
   ]
  }
 ],
 "metadata": {
  "kernelspec": {
   "display_name": "Python 3.10.8 ('torchgpu')",
   "language": "python",
   "name": "python3"
  },
  "language_info": {
   "codemirror_mode": {
    "name": "ipython",
    "version": 3
   },
   "file_extension": ".py",
   "mimetype": "text/x-python",
   "name": "python",
   "nbconvert_exporter": "python",
   "pygments_lexer": "ipython3",
   "version": "3.10.8"
  },
  "orig_nbformat": 4,
  "vscode": {
   "interpreter": {
    "hash": "90f220cb5ecbe565e7666ffd188193cf845b81485debce3e80999b89d521bd40"
   }
  }
 },
 "nbformat": 4,
 "nbformat_minor": 2
}
